{
 "cells": [
  {
   "cell_type": "code",
   "execution_count": 2,
   "id": "4d1704a2",
   "metadata": {},
   "outputs": [
    {
     "output_type": "stream",
     "name": "stdout",
     "text": [
      "0.816496580927726\n"
     ]
    }
   ],
   "source": [
    "import math\n",
    "N,K = map(int,input().split(' '))\n",
    "arrN =input().split(' ')\n",
    "arrn =[]\n",
    "for list in arrN:\n",
    "    arrn.append(int(list))\n",
    "#처음일경우를 처리하기 위한 스위치\n",
    "cut = 0\n",
    "#표준편차\n",
    "X = 0\n",
    "for k in range(K,N+1):\n",
    "    for i in range(0,N-k+1): \n",
    "        sum=0 #평균을 구하기위한 합\n",
    "        sum2=0 #분산을 구하기 위한 합\n",
    "        for j in range(i,k+i):\n",
    "            sum=arrn[j]+sum\n",
    "\n",
    "        avg=float(sum/k)\n",
    "\n",
    "        for j in range(i,k+i):\n",
    "            sum2=(arrn[j]-avg)**2 +sum2\n",
    "\n",
    "        temp=float(sum2/k)\n",
    "\n",
    "        if cut == 0:\n",
    "            V=temp\n",
    "            cut=cut+1\n",
    "        else:\n",
    "            if V>temp:\n",
    "                V=temp\n",
    "\n",
    "\n",
    "X=math.sqrt(V)                \n",
    "# print(\"{:.11f}\".format(X))\n",
    "print(X)\n",
    "print(\"깃 허브 연습을 위한 수정\")"
   ]
  },
  {
   "cell_type": "code",
   "execution_count": null,
   "id": "ddb59fb8",
   "metadata": {},
   "outputs": [],
   "source": []
  }
 ],
 "metadata": {
  "kernelspec": {
   "name": "python371jvsc74a57bd07894f89fd38c055275a7c400e0cc6b2abef34a843e1905115ec8f2ee91725011",
   "display_name": "Python 3.7.1 64-bit ('base': conda)"
  },
  "language_info": {
   "codemirror_mode": {
    "name": "ipython",
    "version": 3
   },
   "file_extension": ".py",
   "mimetype": "text/x-python",
   "name": "python",
   "nbconvert_exporter": "python",
   "pygments_lexer": "ipython3",
   "version": "3.7.1"
  }
 },
 "nbformat": 4,
 "nbformat_minor": 5
}