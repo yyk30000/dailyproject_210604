{
 "cells": [
  {
   "cell_type": "code",
   "execution_count": 31,
   "id": "4d1704a2",
   "metadata": {},
   "outputs": [
    {
     "name": "stdout",
     "output_type": "stream",
     "text": [
      "5 3\n",
      "1 2 3 4 5\n",
      "0.816496580927726\n"
     ]
    }
   ],
   "source": [
    "import math\n",
    "N,K = map(int,input().split(' '))\n",
    "arrN =input().split(' ')\n",
    "arrn =[]\n",
    "for list in arrN:\n",
    "    arrn.append(int(list))\n",
    "#처음일경우를 처리하기 위한 스위치\n",
    "cut = 0\n",
    "#표준편차\n",
    "X = 0\n",
    "for k in range(K,N+1):\n",
    "    for i in range(0,N-k+1): \n",
    "        sum=0 #평균을 구하기위한 합\n",
    "        sum2=0 #분산을 구하기 위한 합\n",
    "        for j in range(i,k+i):\n",
    "            sum=arrn[j]+sum\n",
    "\n",
    "        avg=float(sum/k)\n",
    "\n",
    "        for j in range(i,k+i):\n",
    "            sum2=(arrn[j]-avg)**2 +sum2\n",
    "\n",
    "        temp=float(sum2/k)\n",
    "\n",
    "        if cut == 0:\n",
    "            V=temp\n",
    "            cut=cut+1\n",
    "        else:\n",
    "            if V>temp:\n",
    "                V=temp\n",
    "\n",
    "\n",
    "X=math.sqrt(V)                \n",
    "# print(\"{:.11f}\".format(X))\n",
    "print(X)"
   ]
  },
  {
   "cell_type": "code",
   "execution_count": null,
   "id": "ddb59fb8",
   "metadata": {},
   "outputs": [],
   "source": []
  }
 ],
 "metadata": {
  "kernelspec": {
   "display_name": "Python 3",
   "language": "python",
   "name": "python3"
  },
  "language_info": {
   "codemirror_mode": {
    "name": "ipython",
    "version": 3
   },
   "file_extension": ".py",
   "mimetype": "text/x-python",
   "name": "python",
   "nbconvert_exporter": "python",
   "pygments_lexer": "ipython3",
   "version": "3.8.8"
  }
 },
 "nbformat": 4,
 "nbformat_minor": 5
}
